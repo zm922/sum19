{
 "cells": [
  {
   "cell_type": "markdown",
   "metadata": {},
   "source": [
    "### Multivariate DCC-GARCH Model notation"
   ]
  },
  {
   "cell_type": "markdown",
   "metadata": {},
   "source": [
    "$a_t = H_t^{1/2} z_t$ \n",
    "\n",
    "$\\{z_t\\}$ : n × 1 vector of iid errors such that $\\mathbb{E}[z_t] = 0$ and $\\mathbb{E}[z_tz^T_t] = I$\n",
    "\n",
    "$H_t$ : conditional variance matrix\n",
    "\n",
    "$H_t = D_tR_tD_t$\n",
    "\n",
    "$D_t = diag(h_{i,t}, \\cdots, h_{n,t})$\n",
    "\n",
    "$h_{i,t} = \\alpha_{i,0} + \\alpha_{i,1}a^2_{t-1} + \\beta_{i,1}h_{i,t-1}$\n",
    "\n",
    "$R_t = Q^{*-1}\\overline{Q}Q^{*-1}$\n",
    "\n",
    "$Q_t = (1-a-b)\\overline Q + a\\epsilon_{t-1}\\epsilon_{t-1}^T + bQ_{t-1}$\n",
    "\n",
    "$\\epsilon_t \\sim \\mathcal{N}(0,R_t)$"
   ]
  },
  {
   "cell_type": "markdown",
   "metadata": {},
   "source": [
    "### paper notation"
   ]
  },
  {
   "cell_type": "markdown",
   "metadata": {},
   "source": [
    "$\\Sigma_{t+\\Delta t} = (ACC^*+CC^* A^*)\\Delta t +e^{-A\\Delta t}\\Sigma_te^{-A^*\\Delta t}+B(\\overline{Z}-Z_t)(\\overline{Z}-Z_t)^*B^*\\Delta t$"
   ]
  },
  {
   "cell_type": "code",
   "execution_count": 2,
   "metadata": {},
   "outputs": [],
   "source": [
    "import numpy as np\n",
    "import pandas as pd\n",
    "import matplotlib.pyplot as plt"
   ]
  },
  {
   "cell_type": "code",
   "execution_count": 78,
   "metadata": {},
   "outputs": [],
   "source": [
    "# param dict\n",
    "parameters = {}\n",
    "\n",
    "# 10 assets\n",
    "num_assets = 10\n",
    "num_rows_per_asset = 5\n",
    "\n",
    "# calculated in R\n",
    "a = 0.007073296\n",
    "b = 0.658588119\n",
    "\n",
    "# import from R\n",
    "coef = pd.read_csv('coef.csv')\n",
    "\n",
    "# mu, ar1, omega, alpha, beta 0,1,2,3,4 for each asset - 5 values for each asset so 500 total values\n",
    "parameters['alpha'] = np.array([coef.loc[i,'x'] for i in range(3,(num_assets*num_rows_per_asset),5)])\n",
    "parameters['beta'] = np.array([coef.loc[i,'x'] for i in range(4,(num_assets*num_rows_per_asset),5)])\n",
    "parameters['omega'] = np.array([coef.loc[i,'x'] for i in range(2,(num_assets*num_rows_per_asset),5)])\n",
    "parameters['Q_bar'] = pd.read_csv('Q_bar.csv').drop('Unnamed: 0',axis=1).to_numpy()\n",
    "parameters['H_init'] = pd.read_csv('H_init.csv').drop('Unnamed: 0',axis=1).to_numpy()\n",
    "parameters['Q'] = pd.read_csv('Q_init.csv').drop('Unnamed: 0',axis=1).to_numpy()\n",
    "parameters['T'] = 1000\n",
    "parameters['e'] = 1e-5\n",
    "parameters['num_assets'] = 10\n",
    "\n"
   ]
  },
  {
   "cell_type": "code",
   "execution_count": 79,
   "metadata": {},
   "outputs": [],
   "source": [
    "# hyper-params\n",
    "T = 1000\n",
    "e = 1e-5\n",
    "\n",
    "# this will be returned\n",
    "generated_data = {}\n",
    "\n",
    "condNum_list = []\n",
    "a_list = []\n",
    "H_list = []\n",
    "\n",
    "# initialize\n",
    "a0 = np.linalg.cholesky(H_init)@np.random.multivariate_normal(np.zeros(num_assets),1*np.identity(num_assets))\n",
    "\n",
    "# needed to ensure H psd\n",
    "h0 = np.ones(num_assets)*e\n",
    "\n",
    "for t in range(T):\n",
    "    # compute R_t\n",
    "    Q_star_inv = np.linalg.inv(np.diag(Q.diagonal()))\n",
    "\n",
    "    R = Q_star_inv@Q_bar@Q_star_inv\n",
    "\n",
    "    # compute D_t\n",
    "    h1 = omega + alpha*a0**2 + beta*h0\n",
    "    D = np.power(np.diag(h1),1/2)\n",
    "    \n",
    "    # compute H\n",
    "    H = D@R@D\n",
    "\n",
    "    # draw z\n",
    "    z = np.random.multivariate_normal(np.zeros(num_assets),1*np.identity(num_assets))\n",
    "\n",
    "    # compute a: a = 𝐻^1/2 @ z\n",
    "    a1 = np.linalg.cholesky(H)@z\n",
    "    \n",
    "    # draw e\n",
    "    e = np.random.multivariate_normal(np.zeros(num_assets),R)\n",
    "    \n",
    "    # step Q\n",
    "    Q = (1-a-b)*Q_bar + a*np.outer(e,e) + b*Q\n",
    "    \n",
    "    # step a,h\n",
    "    h0 = h1\n",
    "    a0 = a1.squeeze()\n",
    "    \n",
    "    # covariance matrices - keep track of our generated data\n",
    "    condNum_list.append(np.linalg.cond(H))\n",
    "    H_list.append(H)\n",
    "    # returns\n",
    "    a_list.append(a0)\n",
    "    \n",
    "generated_data['condition_nums'] = condNum_list\n",
    "generated_data['return_vecs'] = a_list"
   ]
  },
  {
   "cell_type": "code",
   "execution_count": 21,
   "metadata": {},
   "outputs": [
    {
     "data": {
      "text/plain": [
       "[<matplotlib.lines.Line2D at 0x10bc4cf60>]"
      ]
     },
     "execution_count": 21,
     "metadata": {},
     "output_type": "execute_result"
    },
    {
     "data": {
      "image/png": "[encoded data removed]",
      "text/plain": [
       "<Figure size 432x288 with 1 Axes>"
      ]
     },
     "metadata": {
      "needs_background": "light"
     },
     "output_type": "display_data"
    }
   ],
   "source": [
    "plt.plot(generated_data['condition_nums'])"
   ]
  },
  {
   "cell_type": "code",
   "execution_count": 24,
   "metadata": {},
   "outputs": [],
   "source": [
    "if False:\n",
    "    for j in range(10):\n",
    "        plt.figure(j)\n",
    "        plt.plot([a_list[i][j] for i in range(1000)])"
   ]
  },
  {
   "cell_type": "code",
   "execution_count": 18,
   "metadata": {},
   "outputs": [],
   "source": [
    "returns = np.vstack(generated_data['return_vecs'])\n",
    "cond_nums = generated_data['condition_nums']"
   ]
  },
  {
   "cell_type": "code",
   "execution_count": 91,
   "metadata": {},
   "outputs": [],
   "source": [
    "class DataGenerator(object):\n",
    "    \"\"\"Acts as data provider for each new episode.\"\"\"\n",
    "    \n",
    "    step = 0\n",
    "    \n",
    "    # def __init__(self, history, abbreviation, steps=730, window_length=50, start_idx=0, start_date=None):\n",
    "    def __init__(self, parameters=parameters, steps=730, window_length=50, start_idx=0):\n",
    "        \"\"\"\n",
    "        New Args:\n",
    "            parameters: dictionary of mgarch parameters from R\n",
    "            steps: the total number of steps to simulate, default is 2 years\n",
    "            window_length: observation window, must be less than 50\n",
    "\n",
    "        Old Args:\n",
    "            history: (num_stocks, timestamp, 5) open, high, low, close, volume\n",
    "            abbreviation: a list of length num_stocks with assets name\n",
    "            steps: the total number of steps to simulate, default is 2 years\n",
    "            window_length: observation window, must be less than 50\n",
    "            start_date: the date to start. Default is None and random pick one.\n",
    "                        It should be a string e.g. '2012-08-13'\n",
    "        \"\"\"\n",
    "        # assert history.shape[0] == len(abbreviation), 'Number of stock is not consistent'\n",
    "        import copy\n",
    "\n",
    "        self.parameters = parameters\n",
    "        self.steps = steps + 1\n",
    "        self.window_length = window_length\n",
    "        # self.start_idx = start_idx\n",
    "        # self.start_date = start_date\n",
    "\n",
    "        # make immutable class\n",
    "        # self._data = history.copy()  # all data\n",
    "        # self.asset_names = copy.copy(abbreviation)\n",
    "\n",
    "        # NEW\n",
    "        self._data = self.generate_data()\n",
    "        \n",
    "        print('Data generated')\n",
    "        # get data for this episode, each episode might be different. you can change start date for each episode\n",
    "        # if self.start_date is None:\n",
    "        #     self.idx = np.random.randint(low=self.window_length, high=self._data.shape[1] - self.steps)\n",
    "        # else:\n",
    "        #     # compute index corresponding to start_date for repeatable sequence\n",
    "        #     self.idx = date_to_index(self.start_date) - self.start_idx\n",
    "        #     assert self.idx >= self.window_length and self.idx <= self._data.shape[1] - self.steps, \\\n",
    "        #         'Invalid start date, must be window_length day after start date and simulation steps day before end date'\n",
    "        # print('Start date: {}'.format(index_to_date(self.idx)))\n",
    "\n",
    "    def _step(self):\n",
    "        # get observation matrix from history, exclude volume, maybe volume is useful as it\n",
    "        # indicates how market total investment changes. Normalize could be critical here\n",
    "        self.step += 1\n",
    "        # data in shape [num_assets, num_days, 4]\n",
    "        # last dim = [open, condition_num,condition_num, close]\n",
    "\n",
    "        obs = self._data[:, self.step:self.step + self.window_length, :].copy()\n",
    "        # normalize obs with open price\n",
    "\n",
    "        # used for compute optimal action and sanity check\n",
    "        ground_truth_obs = self._data[:, self.step + self.window_length:self.step + self.window_length + 1, :].copy()\n",
    "\n",
    "        done = self.step >= self.steps\n",
    "        return obs, done, ground_truth_obs\n",
    "\n",
    "    def reset(self):\n",
    "        self.step = 0\n",
    "\n",
    "        # get data for this episode, each episode might be different.\n",
    "        if self.start_date is None:\n",
    "            self.idx = np.random.randint(\n",
    "                low=self.window_length, high=self._data.shape[1] - self.steps)\n",
    "        else:\n",
    "            # compute index corresponding to start_date for repeatable sequence\n",
    "            self.idx = date_to_index(self.start_date) - self.start_idx\n",
    "            assert self.idx >= self.window_length and self.idx <= self._data.shape[1] - self.steps, \\\n",
    "                'Invalid start date, must be window_length day after start date and simulation steps day before end date'\n",
    "        # print('Start date: {}'.format(index_to_date(self.idx)))\n",
    "        data = self._data[:, self.idx - self.window_length:self.idx + self.steps + 1, :4]\n",
    "        # apply augmentation?\n",
    "        self.data = data\n",
    "        return self.data[:, self.step:self.step + self.window_length, :].copy(), \\\n",
    "               self.data[:, self.step + self.window_length:self.step + self.window_length + 1, :].copy()\n",
    "\n",
    "    \n",
    "    def generate_data(self):\n",
    "\n",
    "        T = self.steps\n",
    "        Q_bar = self.parameters['Q_bar']\n",
    "        Q = self.parameters['Q']\n",
    "        num_assets = self.parameters['num_assets']\n",
    "        e = self.parameters['e']\n",
    "\n",
    "        condNum_list = []\n",
    "        a_list = []\n",
    "\n",
    "        # initialize\n",
    "        a0 = np.linalg.cholesky(H_init)@np.random.multivariate_normal(np.zeros(num_assets),1*np.identity(num_assets))\n",
    "\n",
    "        # needed to ensure H psd\n",
    "        h0 = np.ones(num_assets)*e\n",
    "        Q = pd.read_csv('Q_init.csv').drop('Unnamed: 0',axis=1).to_numpy()\n",
    "\n",
    "        for t in range(T):\n",
    "            # compute R_t\n",
    "            Q_star_inv = np.linalg.inv(np.diag(Q.diagonal()))\n",
    "\n",
    "            R = Q_star_inv@Q_bar@Q_star_inv\n",
    "\n",
    "            # compute D_t\n",
    "            h1 = omega + alpha*a0**2 + beta*h0\n",
    "            D = np.power(np.diag(h1),1/2)\n",
    "            \n",
    "            # compute H\n",
    "            H = D@R@D\n",
    "\n",
    "            # draw z\n",
    "            z = np.random.multivariate_normal(np.zeros(num_assets),1*np.identity(num_assets))\n",
    "\n",
    "            # compute a: a = 𝐻^1/2 @ z\n",
    "            a1 = np.linalg.cholesky(H)@z\n",
    "            \n",
    "            # draw e\n",
    "            e = np.random.multivariate_normal(np.zeros(num_assets),R)\n",
    "            \n",
    "            # step Q\n",
    "            Q = (1-a-b)*Q_bar + a*np.outer(e,e) + b*Q\n",
    "            \n",
    "            # step a,h\n",
    "            h0 = h1\n",
    "            a0 = a1.squeeze()\n",
    "            \n",
    "            # covariance matrices - keep track of our generated data\n",
    "            condNum_list.append(np.linalg.cond(H))\n",
    "            # returns\n",
    "            a_list.append(a0)\n",
    "            \n",
    "        return np.concatenate((np.vstack(a_list),np.asarray(condNum_list)[:,None]),axis=1)"
   ]
  },
  {
   "cell_type": "code",
   "execution_count": 92,
   "metadata": {},
   "outputs": [
    {
     "name": "stdout",
     "output_type": "stream",
     "text": [
      "Data generated\n"
     ]
    }
   ],
   "source": [
    "data_gen = DataGenerator()"
   ]
  },
  {
   "cell_type": "code",
   "execution_count": null,
   "metadata": {},
   "outputs": [],
   "source": []
  }
 ],
 "metadata": {
  "kernelspec": {
   "display_name": "Python 3",
   "language": "python",
   "name": "python3"
  },
  "language_info": {
   "codemirror_mode": {
    "name": "ipython",
    "version": 3
   },
   "file_extension": ".py",
   "mimetype": "text/x-python",
   "name": "python",
   "nbconvert_exporter": "python",
   "pygments_lexer": "ipython3",
   "version": "3.7.3"
  }
 },
 "nbformat": 4,
 "nbformat_minor": 2
}
