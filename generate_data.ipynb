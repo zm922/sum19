{
 "cells": [
  {
   "cell_type": "markdown",
   "metadata": {},
   "source": [
    "### Multivariate DCC-GARCH Model notation"
   ]
  },
  {
   "cell_type": "markdown",
   "metadata": {},
   "source": [
    "$a_t = H_t^{1/2} z_t$ \n",
    "\n",
    "$\\{z_t\\}$ : n × 1 vector of iid errors such that $\\mathbb{E}[z_t] = 0$ and $\\mathbb{E}[z_tz^T_t] = I$\n",
    "\n",
    "$H_t$ : conditional variance matrix\n",
    "\n",
    "$H_t = D_tR_tD_t$\n",
    "\n",
    "$D_t = diag(h_{i,t}, \\cdots, h_{n,t})$\n",
    "\n",
    "$h_{i,t} = \\alpha_{i,0} + \\alpha_{i,1}a^2_{t-1} + \\beta_{i,1}h_{i,t-1}$\n",
    "\n",
    "$R_t = Q^{*-1}\\overline{Q}Q^{*-1}$\n",
    "\n",
    "$Q_t = (1-a-b)\\overline Q + a\\epsilon_{t-1}\\epsilon_{t-1}^T + bQ_{t-1}$\n",
    "\n",
    "$\\epsilon_t \\sim \\mathcal{N}(0,R_t)$"
   ]
  },
  {
   "cell_type": "markdown",
   "metadata": {},
   "source": [
    "### paper notation"
   ]
  },
  {
   "cell_type": "markdown",
   "metadata": {},
   "source": [
    "$\\Sigma_{t+\\Delta t} = (ACC^*+CC^* A^*)\\Delta t +e^{-A\\Delta t}\\Sigma_te^{-A^*\\Delta t}+B(\\overline{Z}-Z_t)(\\overline{Z}-Z_t)^*B^*\\Delta t$"
   ]
  },
  {
   "cell_type": "code",
   "execution_count": 1,
   "metadata": {},
   "outputs": [],
   "source": [
    "import numpy as np\n",
    "import pandas as pd\n",
    "import matplotlib.pyplot as plt"
   ]
  },
  {
   "cell_type": "code",
   "execution_count": 111,
   "metadata": {},
   "outputs": [],
   "source": [
    "# param dict\n",
    "parameters = {}\n",
    "\n",
    "# 10 assets\n",
    "num_assets = 10\n",
    "num_rows_per_asset = 5\n",
    "\n",
    "# calculated in R\n",
    "a = 0.007073296\n",
    "b = 0.658588119\n",
    "\n",
    "# import from R\n",
    "coef = pd.read_csv('coef.csv')\n",
    "\n",
    "# mu, ar1, omega, alpha, beta 0,1,2,3,4 for each asset - 5 values for each asset so 500 total values\n",
    "parameters['alpha'] = np.array([coef.loc[i,'x'] for i in range(3,(num_assets*num_rows_per_asset),5)])\n",
    "parameters['beta'] = np.array([coef.loc[i,'x'] for i in range(4,(num_assets*num_rows_per_asset),5)])\n",
    "parameters['omega'] = np.array([coef.loc[i,'x'] for i in range(2,(num_assets*num_rows_per_asset),5)])\n",
    "parameters['Q_bar'] = pd.read_csv('Q_bar.csv').drop('Unnamed: 0',axis=1).to_numpy()\n",
    "parameters['H_init'] = pd.read_csv('H_init.csv').drop('Unnamed: 0',axis=1).to_numpy()\n",
    "parameters['Q'] = pd.read_csv('Q_init.csv').drop('Unnamed: 0',axis=1).to_numpy()\n",
    "parameters['T'] = 1000\n",
    "parameters['small_scalar'] = 1e-5\n",
    "parameters['num_assets'] = 10\n",
    "\n"
   ]
  },
  {
   "cell_type": "code",
   "execution_count": 160,
   "metadata": {},
   "outputs": [],
   "source": [
    "# this will be returned\n",
    "generated_data = {}\n",
    "\n",
    "condNum_list = []\n",
    "a_list = []\n",
    "H_list = []\n",
    "\n",
    "# initialize\n",
    "a0 = np.linalg.cholesky(parameters['H_init'])@np.random.multivariate_normal(np.zeros(parameters['num_assets']),1*np.identity(parameters['num_assets']))\n",
    "\n",
    "# needed to ensure H psd\n",
    "h0 = np.ones(parameters['num_assets'])*parameters['small_scalar']\n",
    "\n",
    "Q = parameters['Q']\n",
    "\n",
    "T = 1000\n",
    "\n",
    "for t in range(T):\n",
    "    # compute R_t\n",
    "    ### UPDATE: first compute decomp then do inversion \n",
    "    Q_star_inv = np.linalg.inv(np.diag(Q.diagonal()))\n",
    "\n",
    "    R = Q_star_inv@parameters['Q_bar']@Q_star_inv\n",
    "\n",
    "    # compute D_t\n",
    "    h1 = parameters['omega'] + parameters['alpha']*a0**2 + parameters['beta']*h0\n",
    "    D = np.power(np.diag(h1),1/2)\n",
    "\n",
    "    # compute H\n",
    "    H = D@R@D\n",
    "\n",
    "    # draw z\n",
    "    z = np.random.multivariate_normal(np.zeros(num_assets),1*np.identity(num_assets))\n",
    "\n",
    "    # compute a: a = 𝐻^1/2 @ z\n",
    "    a1 = np.linalg.cholesky(H)@z\n",
    "\n",
    "    # draw e\n",
    "    e = np.random.multivariate_normal(np.zeros(num_assets),R)\n",
    "\n",
    "    # step Q\n",
    "    Q = (1-a-b)*parameters['Q_bar'] + a*a0@a0.T + b*Q\n",
    "\n",
    "    # step a,h\n",
    "    h0 = h1\n",
    "    a0 = a1.squeeze()\n",
    "\n",
    "    # correlation matrices - keep track of our generated data\n",
    "    condNum_list.append(np.linalg.cond(R))\n",
    "    # returns\n",
    "    a_list.append(e)\n",
    "\n",
    "# [assets,num_days]\n",
    "returns_close = np.cumsum(np.vstack(a_list),axis=1).T + 100\n",
    "\n",
    "# roll 1 day forward to get open,close - close becomes new open\n",
    "returns_open = np.roll(returns_close,1,axis=1)\n",
    "\n",
    "# start at 0 \n",
    "returns_open[:,0] = np.zeros(num_assets)\n",
    "\n",
    "observation = np.stack([returns_open,returns_close],axis=2)\n",
    "# observation = np.concatenate((returns_stack,np.tile(np.asarray(condNum_list),(num_assets,1))[:,:,None]),axis=2)\n",
    "condNum_array = np.asarray(condNum_list)"
   ]
  },
  {
   "cell_type": "code",
   "execution_count": 161,
   "metadata": {},
   "outputs": [],
   "source": [
    "observation = np.divide(observation[:,:,1:2], observation[:,:,0:1], out=np.zeros_like(observation[:,:,0:1]),\\\n",
    "          where=observation[:,:,0:1]!=0)"
   ]
  },
  {
   "cell_type": "code",
   "execution_count": 162,
   "metadata": {},
   "outputs": [
    {
     "data": {
      "text/plain": [
       "array([0.        , 0.99168424, 1.01062298, 0.98242861, 1.00529082,\n",
       "       1.01973729, 0.97440323, 0.9940057 , 1.0141546 , 0.99583512,\n",
       "       0.98691953, 1.0290652 , 0.98360991, 0.99278712, 1.01123862,\n",
       "       1.01815951, 0.98266913, 0.99060067, 0.99424954, 1.02091306,\n",
       "       1.00072791, 1.00285978, 0.99093616, 0.99342104, 0.9996716 ,\n",
       "       1.01473985, 0.99967183, 1.00396877, 0.98637885, 1.01831204,\n",
       "       0.99100563, 0.99015598, 1.01141615, 1.00576982, 0.97236125,\n",
       "       1.03014574, 0.98668375, 0.98287053, 1.00505633, 1.01699461,\n",
       "       1.00332891, 0.99763944, 0.98454294, 1.00880779, 0.98336349,\n",
       "       1.02829034, 0.98922615, 0.99478937, 1.02950007, 0.98600405,\n",
       "       0.9891371 , 0.99961864, 0.99565816, 1.02298596, 0.97803631,\n",
       "       1.01833969, 0.98943082, 1.00691766, 0.99806192, 0.9915741 ,\n",
       "       1.00847039, 0.99001738, 0.98907997, 1.00233278, 1.02036514,\n",
       "       1.00752864, 0.98753889, 1.02865369, 0.96272942, 0.99277838,\n",
       "       1.01238154, 0.992161  , 1.00349988, 1.00732822, 0.98524662,\n",
       "       1.01177867, 0.98819454, 1.02650541, 0.98978199, 1.00826002,\n",
       "       0.97860612, 1.01385713, 1.00750812, 0.97038294, 1.00178184,\n",
       "       1.01576216, 1.00313918, 1.00223723, 1.01305238, 0.9787917 ,\n",
       "       1.01239399, 0.99899628, 1.00574935, 1.00026464, 0.99272585,\n",
       "       0.98301166, 0.99047038, 1.00884044, 1.00909941, 1.00770486,\n",
       "       1.00927651, 0.97960233, 0.99413679, 1.01808132, 1.00736564,\n",
       "       0.99785934, 0.98482307, 0.9938514 , 1.00388587, 1.01007624,\n",
       "       0.99415483, 1.02605448, 0.97254791, 1.00613325, 1.02136769,\n",
       "       0.97516193, 1.00712633, 0.99434202, 0.99984503, 1.0084494 ,\n",
       "       0.98447172, 1.002701  , 1.00851399, 1.01102355, 0.98795198,\n",
       "       1.01416362, 0.9859892 , 1.01582489, 0.96627837, 1.02243961,\n",
       "       1.00185474, 1.01160965, 1.00182017, 0.98240494, 0.99680564,\n",
       "       1.00728823, 0.99481502, 1.01236713, 0.9813556 , 1.02603642,\n",
       "       0.97607026, 1.01471608, 0.96580037, 1.01291181, 1.00922438,\n",
       "       1.01904659, 0.98003557, 0.99276344, 1.00606768, 1.0281583 ,\n",
       "       0.98557841, 0.98316662, 1.01944779, 0.9908017 , 1.01519507,\n",
       "       0.98091883, 0.98673601, 1.01800046, 0.97462325, 1.02591784,\n",
       "       1.01682794, 0.98058145, 0.98718852, 1.00796888, 1.01829808,\n",
       "       0.97884087, 1.00787775, 0.99397948, 1.00143179, 1.02454317,\n",
       "       0.99444117, 0.996872  , 1.0090964 , 0.98159362, 1.00098081,\n",
       "       1.00353293, 1.01711247, 0.97109994, 1.01585496, 0.99737764,\n",
       "       1.00319609, 0.98705021, 1.00414932, 0.98979534, 1.01395704,\n",
       "       0.98925979, 1.01841508, 0.97916651, 1.01889132, 0.98500133,\n",
       "       1.00725537, 1.00240607, 1.00529779, 0.99313369, 1.00562246,\n",
       "       1.00310552, 1.00721753, 0.96039597, 1.00486242, 1.0207969 ,\n",
       "       1.0139304 , 0.99630346, 1.00005535, 0.98461278, 1.00715232,\n",
       "       0.98431859, 0.99864139, 1.01147951, 1.00457211, 0.99646517,\n",
       "       1.00865337, 1.02203128, 0.97921803, 0.98345837, 0.9989355 ,\n",
       "       1.01004818, 0.9965134 , 0.99999075, 1.0060314 , 0.98265672,\n",
       "       1.01669844, 0.98133877, 1.00049012, 1.03661268, 0.95531289,\n",
       "       1.03707975, 0.99340171, 0.97422052, 1.0279685 , 0.97699952,\n",
       "       0.99731537, 1.01165212, 1.01146237, 0.98487781, 1.02399486,\n",
       "       0.98848344, 1.00917138, 0.98085893, 1.02395089, 1.00027636,\n",
       "       0.97129969, 1.01498151, 1.01281252, 0.97362513, 1.0252828 ,\n",
       "       0.9873178 , 1.02505646, 0.98811096, 1.02613778, 0.93187447,\n",
       "       1.04017155, 0.99437908, 1.00570903, 0.99951254, 0.99005596,\n",
       "       1.00685113, 1.00664376, 0.98973124, 1.00313003, 0.99031396,\n",
       "       1.00984651, 0.97894933, 1.00456358, 1.01222925, 0.99350277,\n",
       "       1.02607456, 0.99833762, 0.99252033, 1.00172287, 0.99156487,\n",
       "       1.00697725, 0.98646314, 1.00181408, 1.02382373, 0.98404566,\n",
       "       1.00318172, 1.00293119, 1.001885  , 1.01485801, 0.97783329,\n",
       "       0.99582871, 1.01514692, 0.99613564, 0.99146569, 0.99304236,\n",
       "       1.00920631, 0.9924632 , 0.99949536, 1.01536772, 0.99327048,\n",
       "       0.98179129, 1.00051884, 1.01089982, 0.99402361, 1.01519599,\n",
       "       1.01395133, 0.98352653, 0.98778225, 1.01181458, 0.99432893,\n",
       "       1.00155104, 1.00765334, 0.99765617, 0.98275357, 1.01639246,\n",
       "       0.99840253, 1.01426648, 0.98371695, 1.00958094, 0.99140463,\n",
       "       1.00213994, 0.9833289 , 0.99687231, 1.0324433 , 0.98909709,\n",
       "       0.98092702, 1.01668652, 0.99008595, 1.01853022, 0.99985286,\n",
       "       0.99024843, 1.01149347, 1.01194206, 0.96940969, 1.01618664,\n",
       "       1.00633364, 0.99251035, 0.9983975 , 0.99227729, 1.01105861,\n",
       "       1.01320403, 0.98037174, 0.99909732, 0.99518598, 1.00363048,\n",
       "       1.00164111, 1.00103273, 1.0021861 , 0.98375333, 1.03204554,\n",
       "       0.99147046, 0.9891343 , 0.97278845, 1.038552  , 0.9913301 ,\n",
       "       0.99730306, 1.01792361, 0.98911074, 0.99910721, 0.99816168,\n",
       "       0.99885309, 0.98991255, 1.00288875, 1.00183266, 1.00135652,\n",
       "       1.00386697, 1.00773345, 0.99186307, 1.00385132, 0.99132237,\n",
       "       0.99832423, 1.00197577, 1.01869302, 0.98244291, 1.00021037,\n",
       "       1.00228287, 1.00057634, 1.00337952, 1.00365937, 0.99702186,\n",
       "       1.00571622, 1.00225759, 0.98824082, 1.02292454, 0.96788353,\n",
       "       1.02492935, 0.99239508, 0.98514834, 1.02393732, 0.98826225,\n",
       "       1.00742296, 1.00280059, 0.98302716, 1.00057017, 0.97308804,\n",
       "       1.04156542, 1.00080483, 0.96737529, 1.01172648, 1.00514727,\n",
       "       1.00410211, 1.00299231, 1.00629978, 0.9911484 , 0.98993644,\n",
       "       1.0095182 , 1.00778062, 1.01402981, 0.98197179, 1.02685028,\n",
       "       0.97940251, 0.99582558, 0.99314437, 1.02065242, 0.98123656,\n",
       "       0.98700714, 1.01691085, 0.98994063, 1.02330931, 0.9877727 ,\n",
       "       0.99241673, 0.99912255, 1.01420833, 1.00384627, 0.97291893,\n",
       "       1.01878992, 0.99880673, 0.99791418, 0.99057752, 1.01467745,\n",
       "       0.99820904, 1.00287314, 0.98353728, 1.01777633, 0.9815488 ,\n",
       "       1.00925651, 1.00771233, 0.98971347, 1.0090018 , 0.99767815,\n",
       "       0.97106459, 1.04748309, 0.98331114, 1.00545686, 0.98752468,\n",
       "       1.01291667, 0.9760365 , 1.01925574, 0.99125673, 1.02243465,\n",
       "       0.99794053, 0.99633561, 0.99032307, 1.00042155, 1.00015275,\n",
       "       0.99577397, 1.02977845, 0.97805365, 1.00066807, 0.99779524,\n",
       "       0.98976769, 1.01230609, 0.99450792, 1.01066891, 1.00090365,\n",
       "       1.0022761 , 0.97561731, 1.02617318, 0.96920195, 1.01423192,\n",
       "       1.0044628 , 1.00208224, 0.98847327, 1.01798014, 1.00045452,\n",
       "       1.00179455, 0.99988962, 0.99343915, 0.99402681, 1.01408241,\n",
       "       0.99906525, 1.02034673, 0.97946378, 0.99952245, 1.00499087,\n",
       "       0.98437433, 0.97474386, 1.04760876, 0.98740563, 0.99822887,\n",
       "       1.00150599, 0.97222066, 1.01164715, 1.00394464, 0.99682345,\n",
       "       1.01249963, 1.00406213, 1.0013671 , 1.01356363, 0.97452763,\n",
       "       1.01795308, 0.98019401, 0.98910474, 1.0108692 , 1.0169261 ,\n",
       "       0.99140236, 0.99032929, 1.01361458, 1.01480395, 0.98170423,\n",
       "       1.00869902, 0.99142543, 1.00989422, 0.99083962, 0.9964819 ,\n",
       "       0.98555931, 1.01229234, 1.00049367, 1.00573284, 0.99887825,\n",
       "       0.987149  , 1.00329563, 1.00179073, 0.98071564, 1.01937067,\n",
       "       1.0093618 , 0.97978989, 1.01379884, 1.00762104, 1.00455836,\n",
       "       1.00159634, 1.00545093, 0.97219943, 1.01070507, 1.00074448,\n",
       "       1.00032415, 0.99876114, 1.00955924, 1.01033288, 0.99542569,\n",
       "       1.00046111, 0.99263623, 0.97559155, 1.02134285, 0.99592583,\n",
       "       1.02039322, 0.96179511, 1.03725835, 0.9962066 , 0.9791642 ,\n",
       "       1.01204595, 0.99366128, 0.99740904, 1.00900537, 1.00017953,\n",
       "       0.96582094, 1.00374782, 1.0394727 , 0.99392484, 0.98890298,\n",
       "       0.99928014, 1.01149392, 0.99855777, 1.00314763, 0.9896906 ,\n",
       "       0.99436978, 1.02927575, 0.97087041, 1.0136045 , 1.00224357,\n",
       "       1.00407183, 1.00097335, 0.99112965, 1.0146071 , 0.98869417,\n",
       "       0.99843816, 0.99265445, 0.9916236 , 1.02047088, 0.99914783,\n",
       "       0.98988245, 0.98316761, 1.02854927, 0.96546252, 1.03268249,\n",
       "       0.98605264, 0.99515564, 1.01802753, 0.98708773, 1.01891344,\n",
       "       0.99942696, 0.98408452, 1.00071974, 1.01357309, 1.00843513,\n",
       "       1.0004962 , 0.97931445, 0.99792976, 1.02780481, 0.98433572,\n",
       "       0.99771617, 1.00255682, 0.99255883, 1.01706191, 0.99544453,\n",
       "       1.01094689, 0.97600587, 1.00704613, 0.99217861, 0.98736761,\n",
       "       1.00610791, 1.00529544, 0.99080905, 1.02213121, 0.99599801,\n",
       "       0.97837619, 1.01339936, 1.03086186, 0.97486258, 1.00505977,\n",
       "       0.99746372, 0.97783803, 1.0355129 , 0.99939754, 0.99243348,\n",
       "       0.97977122, 1.02780421, 0.98839492, 0.99754995, 1.00778477,\n",
       "       0.96701979, 1.04319815, 0.99222437, 0.97522521, 1.02651416,\n",
       "       0.98796053, 1.02644602, 0.9603288 , 1.01895689, 0.99701498,\n",
       "       0.99824377, 1.01057818, 1.01431941, 0.98275249, 1.00605093,\n",
       "       0.98572523, 1.00435178, 1.01276879, 0.99419869, 1.01099852,\n",
       "       0.96948894, 0.98892263, 1.03921614, 0.97468755, 1.00531521,\n",
       "       1.01434532, 0.99444264, 1.00916181, 0.98158945, 1.01256127,\n",
       "       1.00408999, 0.99503806, 0.99881428, 0.99929846, 1.01966006,\n",
       "       0.98587393, 1.00947044, 0.98864611, 0.9857147 , 1.02154176,\n",
       "       0.98670126, 0.98910594, 1.00198847, 0.99926971, 1.00226083,\n",
       "       1.00038432, 1.00325899, 1.00058059, 1.00396326, 1.00953142,\n",
       "       0.99097184, 0.98270687, 1.0120971 , 0.99313973, 1.00655846,\n",
       "       1.00707705, 0.99191477, 1.01963145, 0.97277939, 1.00864698,\n",
       "       1.01299593, 0.99200021, 1.00708016, 0.98546802, 1.00226049,\n",
       "       1.00254913, 1.01328418, 0.97551379, 1.01425206, 0.99670507,\n",
       "       1.02185034, 0.99356505, 0.99916117, 0.99528549, 0.99367202,\n",
       "       1.00834159, 0.97756496, 1.02487003, 0.98455646, 1.00548016,\n",
       "       0.99664331, 1.01537235, 0.99771709, 0.98047346, 1.0144263 ,\n",
       "       0.97783842, 1.00825506, 1.00111771, 1.01377334, 1.01791672,\n",
       "       0.97839978, 1.0142561 , 0.9742038 , 1.02900475, 0.98208553,\n",
       "       0.99642388, 1.01303411, 1.00272146, 0.9943294 , 1.00524257,\n",
       "       0.99268756, 0.99168862, 1.00687444, 0.99501977, 1.00898167,\n",
       "       1.00544163, 0.99914253, 0.96661339, 1.01539554, 1.00354025,\n",
       "       0.9977529 , 1.01636101, 1.00749067, 0.97925721, 1.00513407,\n",
       "       0.9860919 , 1.01599536, 1.01149137, 0.99840259, 0.98606905,\n",
       "       1.00071869, 0.99189887, 1.01446921, 0.99690944, 1.01147027,\n",
       "       0.9830882 , 1.00560488, 1.00010506, 1.00161669, 0.98642821,\n",
       "       1.01608749, 0.97483879, 1.02291861, 0.99227996, 1.01945552,\n",
       "       1.00103753, 0.98264948, 1.01145   , 0.99358562, 0.97819692,\n",
       "       1.00779627, 0.99438446, 1.01633673, 1.00542607, 1.00077482,\n",
       "       0.9875426 , 1.0080255 , 0.99764895, 1.01320051, 0.98346123,\n",
       "       1.01406417, 0.99299089, 1.01515313, 0.98305085, 1.01245705,\n",
       "       0.99297058, 0.99618269, 0.98612308, 1.0159516 , 1.00769887,\n",
       "       0.96251163, 1.03723436, 1.00068063, 0.98816476, 1.01560395,\n",
       "       1.00017049, 0.99440782, 0.98869511, 0.99286685, 1.0253192 ,\n",
       "       0.99854525, 0.98804278, 0.99046552, 0.99221783, 1.02466441,\n",
       "       0.99684108, 0.98373218, 1.02338559, 0.98197576, 1.01902227,\n",
       "       0.98933885, 0.99803718, 0.98264113, 1.03086535, 0.98929711,\n",
       "       1.00091794, 1.0145504 , 0.98398377, 0.98738397, 1.00890363,\n",
       "       0.98859987, 1.02658862, 0.98903078, 1.00378016, 0.99701331,\n",
       "       0.98508178, 1.01639229, 0.99252699, 1.01752944, 0.9879413 ,\n",
       "       0.9902966 , 1.01178829, 1.00269236, 0.99379813, 0.98953237,\n",
       "       1.01891111, 0.97999522, 1.02024423, 1.00049916, 0.99124215,\n",
       "       0.99327562, 1.00511743, 1.00466333, 0.99653828, 1.00207983,\n",
       "       0.98684767, 0.99055333, 1.01172967, 0.99643459, 1.01815275,\n",
       "       1.00312013, 1.00758141, 0.98980744, 1.00197537, 0.98821796,\n",
       "       1.00667661, 0.97676309, 1.01835151, 0.99898459, 1.02885977,\n",
       "       0.96548789, 1.01023085, 1.00405448, 0.99913573, 0.98836243,\n",
       "       1.00169491, 1.02444015, 0.98790725, 1.00518744, 1.00122867,\n",
       "       1.01104545, 0.96090129, 1.01366761, 1.00787306, 0.97901426,\n",
       "       1.02535078, 0.99475493, 0.99477093, 1.005491  , 1.0043687 ,\n",
       "       0.98369825, 1.02230521, 0.98399475, 1.02286527, 0.96996667,\n",
       "       1.01459366, 0.99573756, 1.02703097, 0.97084045, 1.01169109,\n",
       "       0.9739738 , 1.01436705, 1.01036166, 1.00458558, 0.99219117,\n",
       "       1.01156427, 0.99753453, 1.0008133 , 0.99570151, 0.99598625,\n",
       "       1.00177231, 1.00294881, 1.00049951, 1.01259008, 0.98884286,\n",
       "       0.98792851, 0.99695483, 1.0018861 , 1.00146217, 0.99272588,\n",
       "       0.99776012, 1.0111119 , 0.99062777, 1.0337438 , 0.99321832,\n",
       "       0.97647856, 0.99072631, 1.03010395, 0.98119557, 1.00424999,\n",
       "       1.02039271, 0.98501539, 1.00978022, 0.99100803, 0.99904883,\n",
       "       1.00921447, 0.98881685, 1.00059117, 1.00988507, 0.98676979,\n",
       "       1.01125202, 0.99963524, 0.98107493, 1.01444104, 0.98740707,\n",
       "       0.99994847, 1.01479959, 0.99818677, 1.00500217, 0.97902711,\n",
       "       1.03551158, 0.98346784, 0.99075788, 1.01640003, 0.99183606,\n",
       "       1.00630343, 0.9783216 , 1.01086118, 1.01481021, 0.9761631 ,\n",
       "       1.01416462, 1.00266209, 1.00502931, 0.98830016, 1.00288824,\n",
       "       0.98129601, 1.02449471, 0.98680808, 1.0172951 , 0.99668757,\n",
       "       0.9908392 , 0.99698657, 0.99978913, 1.01436648, 0.99124103,\n",
       "       0.99802966, 1.00395574, 1.00351186, 0.98039692, 1.01458327,\n",
       "       1.00063158, 1.00722802, 1.00147985, 1.00192963, 0.98888966,\n",
       "       0.9963773 , 0.98682263, 1.01304026, 1.00584419, 0.98955157,\n",
       "       1.01126141, 1.00421729, 0.99422714, 0.98657106, 1.01081365,\n",
       "       0.98670387, 1.01144734, 1.0058472 , 1.00442968, 0.97269612,\n",
       "       1.0181625 , 1.00901224, 0.99584978, 0.99845175, 1.01517289,\n",
       "       0.98096876, 1.00370471, 1.01928401, 0.98573395, 1.01568989,\n",
       "       0.97370075, 1.01110168, 1.00467589, 0.99843428, 0.98874659,\n",
       "       1.00607239, 1.00616237, 0.99199775, 1.0064942 , 0.9917432 ])"
      ]
     },
     "execution_count": 162,
     "metadata": {},
     "output_type": "execute_result"
    }
   ],
   "source": [
    "observation[0,:,0]"
   ]
  },
  {
   "cell_type": "code",
   "execution_count": 152,
   "metadata": {},
   "outputs": [],
   "source": [
    "returns_close = returns_close + 100"
   ]
  },
  {
   "cell_type": "code",
   "execution_count": null,
   "metadata": {},
   "outputs": [],
   "source": [
    "# can't divide - need a new way"
   ]
  },
  {
   "cell_type": "code",
   "execution_count": 88,
   "metadata": {},
   "outputs": [],
   "source": [
    "a = 1\n",
    "l = []\n",
    "for i in range(len(returns_close[0,:])):\n",
    "    l.append(a)\n",
    "    a = a*(1+returns_close[0,i])"
   ]
  },
  {
   "cell_type": "code",
   "execution_count": 89,
   "metadata": {},
   "outputs": [],
   "source": [
    "# start with price = 100? to make it "
   ]
  },
  {
   "cell_type": "code",
   "execution_count": 90,
   "metadata": {},
   "outputs": [],
   "source": [
    "a = np.cumsum(np.asarray(a_list),axis=1)"
   ]
  },
  {
   "cell_type": "code",
   "execution_count": 163,
   "metadata": {},
   "outputs": [
    {
     "data": {
      "text/plain": [
       "[<matplotlib.lines.Line2D at 0x122b85c50>]"
      ]
     },
     "execution_count": 163,
     "metadata": {},
     "output_type": "execute_result"
    },
    {
     "data": {
      "image/png": "[encoded data removed]",
      "text/plain": [
       "<Figure size 432x288 with 1 Axes>"
      ]
     },
     "metadata": {
      "needs_background": "light"
     },
     "output_type": "display_data"
    }
   ],
   "source": [
    "# condition number plot\n",
    "plt.plot(condNum_array)"
   ]
  },
  {
   "cell_type": "code",
   "execution_count": 164,
   "metadata": {},
   "outputs": [
    {
     "data": {
      "image/png": "[encoded data removed]",
      "text/plain": [
       "<Figure size 432x288 with 1 Axes>"
      ]
     },
     "metadata": {
      "needs_background": "light"
     },
     "output_type": "display_data"
    },
    {
     "data": {
      "image/png": "[encoded data removed]",
      "text/plain": [
       "<Figure size 432x288 with 1 Axes>"
      ]
     },
     "metadata": {
      "needs_background": "light"
     },
     "output_type": "display_data"
    },
    {
     "data": {
      "image/png": "[encoded data removed]",
      "text/plain": [
       "<Figure size 432x288 with 1 Axes>"
      ]
     },
     "metadata": {
      "needs_background": "light"
     },
     "output_type": "display_data"
    },
    {
     "data": {
      "image/png": "[encoded data removed]",
      "text/plain": [
       "<Figure size 432x288 with 1 Axes>"
      ]
     },
     "metadata": {
      "needs_background": "light"
     },
     "output_type": "display_data"
    },
    {
     "data": {
      "image/png": "[encoded data removed]",
      "text/plain": [
       "<Figure size 432x288 with 1 Axes>"
      ]
     },
     "metadata": {
      "needs_background": "light"
     },
     "output_type": "display_data"
    },
    {
     "data": {
      "image/png": "[encoded data removed]",
      "text/plain": [
       "<Figure size 432x288 with 1 Axes>"
      ]
     },
     "metadata": {
      "needs_background": "light"
     },
     "output_type": "display_data"
    },
    {
     "data": {
      "image/png": "[encoded data removed]",
      "text/plain": [
       "<Figure size 432x288 with 1 Axes>"
      ]
     },
     "metadata": {
      "needs_background": "light"
     },
     "output_type": "display_data"
    },
    {
     "data": {
      "image/png": "[encoded data removed]",
      "text/plain": [
       "<Figure size 432x288 with 1 Axes>"
      ]
     },
     "metadata": {
      "needs_background": "light"
     },
     "output_type": "display_data"
    },
    {
     "data": {
      "image/png": "[encoded data removed]",
      "text/plain": [
       "<Figure size 432x288 with 1 Axes>"
      ]
     },
     "metadata": {
      "needs_background": "light"
     },
     "output_type": "display_data"
    },
    {
     "data": {
      "image/png": "[encoded data removed]",
      "text/plain": [
       "<Figure size 432x288 with 1 Axes>"
      ]
     },
     "metadata": {
      "needs_background": "light"
     },
     "output_type": "display_data"
    }
   ],
   "source": [
    "# returns plot\n",
    "if True:\n",
    "    for j in range(10):\n",
    "        plt.figure(j)\n",
    "        plt.plot([observation[j][i] for i in range(1000)])"
   ]
  },
  {
   "cell_type": "code",
   "execution_count": 270,
   "metadata": {},
   "outputs": [],
   "source": [
    "returns = np.vstack(generated_data['return_vecs'])\n",
    "cond_nums = generated_data['condition_nums']"
   ]
  },
  {
   "cell_type": "code",
   "execution_count": 274,
   "metadata": {},
   "outputs": [
    {
     "data": {
      "text/plain": [
       "(1000, 10)"
      ]
     },
     "execution_count": 274,
     "metadata": {},
     "output_type": "execute_result"
    }
   ],
   "source": [
    "np.cumsum(returns,axis=1)"
   ]
  },
  {
   "cell_type": "code",
   "execution_count": 241,
   "metadata": {},
   "outputs": [],
   "source": [
    "class DataGenerator(object):\n",
    "    \"\"\"Acts as data provider for each new episode.\"\"\"\n",
    "    \n",
    "    step = 0\n",
    "    \n",
    "    # def __init__(self, history, abbreviation, steps=730, window_length=50, start_idx=0, start_date=None):\n",
    "    def __init__(self, parameters, steps=730, window_length=50, start_idx=0):\n",
    "        \"\"\"\n",
    "        New Args:\n",
    "            parameters: dictionary of mgarch parameters from R\n",
    "            steps: the total number of steps to simulate, default is 2 years\n",
    "            window_length: observation window, must be less than 50\n",
    "\n",
    "        Old Args:\n",
    "            history: (num_stocks, timestamp, 5) open, high, low, close, volume\n",
    "            abbreviation: a list of length num_stocks with assets name\n",
    "            steps: the total number of steps to simulate, default is 2 years\n",
    "            window_length: observation window, must be less than 50\n",
    "            start_date: the date to start. Default is None and random pick one.\n",
    "                        It should be a string e.g. '2012-08-13'\n",
    "        \"\"\"\n",
    "        # assert history.shape[0] == len(abbreviation), 'Number of stock is not consistent'\n",
    "        import copy\n",
    "\n",
    "        self.parameters = parameters\n",
    "        self.steps = steps + 1\n",
    "        self.window_length = window_length\n",
    "        self.idx = 0\n",
    "        # self.start_idx = start_idx\n",
    "        # self.start_date = start_date\n",
    "\n",
    "        # make immutable class\n",
    "        # self._data = history.copy()  # all data\n",
    "        # self.asset_names = copy.copy(abbreviation)\n",
    "\n",
    "        # NEW\n",
    "        self._data = self.generate_data()\n",
    "        \n",
    "        print('Data generated')\n",
    "        # get data for this episode, each episode might be different. you can change start date for each episode\n",
    "        # if self.start_date is None:\n",
    "        #     self.idx = np.random.randint(low=self.window_length, high=self._data.shape[1] - self.steps)\n",
    "        # else:\n",
    "        #     # compute index corresponding to start_date for repeatable sequence\n",
    "        #     self.idx = date_to_index(self.start_date) - self.start_idx\n",
    "        #     assert self.idx >= self.window_length and self.idx <= self._data.shape[1] - self.steps, \\\n",
    "        #         'Invalid start date, must be window_length day after start date and simulation steps day before end date'\n",
    "        # print('Start date: {}'.format(index_to_date(self.idx)))\n",
    "\n",
    "    def _step(self):\n",
    "        # get observation matrix from history, exclude volume, maybe volume is useful as it\n",
    "        # indicates how market total investment changes. Normalize could be critical here\n",
    "        self.step += 1\n",
    "        \n",
    "        # OLD\n",
    "        # data in shape [num_assets, num_days, 3]\n",
    "        # last dim = [open, close, condition_num]\n",
    "        obs = self._data[:, self.step:self.step + self.window_length, :].copy()\n",
    "        \n",
    "        # normalize obs with open price\n",
    "        \n",
    "        # OLD\n",
    "        # used for compute optimal action and sanity check\n",
    "        ground_truth_obs = self._data[:, self.step + self.window_length:self.step + self.window_length + 1, :].copy()\n",
    "        \n",
    "        done = self.step >= self.steps\n",
    "        return obs, done, ground_truth_obs\n",
    "\n",
    "    def reset(self):\n",
    "        self.step = 0\n",
    "        \n",
    "        # get data for this episode, each episode might be different.\n",
    "        # OLD\n",
    "        '''\n",
    "        if self.start_date is None:\n",
    "            self.idx = np.random.randint(\n",
    "                low=self.window_length, high=self._data.shape[1] - self.steps)\n",
    "        else:\n",
    "            # compute index corresponding to start_date for repeatable sequence\n",
    "            self.idx = date_to_index(self.start_date) - self.start_idx\n",
    "            assert self.idx >= self.window_length and self.idx <= self._data.shape[1] - self.steps, \\\n",
    "                'Invalid start date, must be window_length day after start date and simulation steps day before end date'\n",
    "        # print('Start date: {}'.format(index_to_date(self.idx)))\n",
    "        '''\n",
    "        \n",
    "        data = self._data[:, self.idx - self.window_length:self.idx + self.steps + 1, :]\n",
    "        # apply augmentation?\n",
    "        self.data = data\n",
    "        return self.data[:, self.step:self.step + self.window_length, :].copy(), \\\n",
    "               self.data[:, self.step + self.window_length:self.step + self.window_length + 1, :].copy()\n",
    "        \n",
    "       \n",
    "    def generate_data(self):\n",
    "\n",
    "        T = self.steps\n",
    "        Q_bar = self.parameters['Q_bar']\n",
    "        Q = self.parameters['Q']\n",
    "        num_assets = self.parameters['num_assets']\n",
    "        small_scalar = self.parameters['small_scalar']\n",
    "\n",
    "        condNum_list = []\n",
    "        a_list = []\n",
    "\n",
    "        # initialize\n",
    "        a0 = np.linalg.cholesky(parameters['H_init'])@np.random.multivariate_normal(np.zeros(parameters['num_assets']),1*np.identity(parameters['num_assets']))\n",
    "\n",
    "        # needed to ensure H psd\n",
    "        h0 = np.ones(parameters['num_assets'])*parameters['small_scalar']\n",
    "\n",
    "        Q = parameters['Q']\n",
    "\n",
    "        for t in range(T):\n",
    "            # compute R_t\n",
    "            Q_star_inv = np.linalg.inv(np.diag(Q.diagonal()))\n",
    "\n",
    "            R = Q_star_inv@parameters['Q_bar']@Q_star_inv\n",
    "\n",
    "            # compute D_t\n",
    "            h1 = parameters['omega'] + parameters['alpha']*a0**2 + parameters['beta']*h0\n",
    "            D = np.power(np.diag(h1),1/2)\n",
    "\n",
    "            # compute H\n",
    "            H = D@R@D\n",
    "\n",
    "            # draw z\n",
    "            z = np.random.multivariate_normal(np.zeros(num_assets),1*np.identity(num_assets))\n",
    "\n",
    "            # compute a: a = 𝐻^1/2 @ z\n",
    "            a1 = np.linalg.cholesky(H)@z\n",
    "\n",
    "            # draw e\n",
    "            e = np.random.multivariate_normal(np.zeros(num_assets),R)\n",
    "\n",
    "            # step Q\n",
    "            Q = (1-a-b)*parameters['Q_bar'] + a*np.outer(e,e) + b*Q\n",
    "\n",
    "            # step a,h\n",
    "            h0 = h1\n",
    "            a0 = a1.squeeze()\n",
    "\n",
    "            # covariance matrices - keep track of our generated data\n",
    "            condNum_list.append(np.linalg.cond(H))\n",
    "            H_list.append(H)\n",
    "            # returns\n",
    "            a_list.append(a0)\n",
    "        \n",
    "        # [assets,num_days]\n",
    "        returns_close = np.vstack(a_list).T\n",
    "        \n",
    "        # roll 1 day forward to get open,close - close becomes new open\n",
    "        returns_open = np.roll(returns_close,1,axis=1)\n",
    "        # start at 0 \n",
    "        returns_open[:,0] = np.zeros(num_assets)\n",
    "        \n",
    "        returns_stack = np.stack([returns_open,returns_close],axis=2)\n",
    "        \n",
    "        return np.concatenate((returns_stack,np.tile(np.asarray(condNum_list),(num_assets,1))[:,:,None]),axis=2)\n",
    "\n",
    "\n"
   ]
  },
  {
   "cell_type": "code",
   "execution_count": 242,
   "metadata": {},
   "outputs": [
    {
     "name": "stdout",
     "output_type": "stream",
     "text": [
      "Data generated\n"
     ]
    }
   ],
   "source": [
    "src = DataGenerator(parameters)"
   ]
  },
  {
   "cell_type": "code",
   "execution_count": 247,
   "metadata": {},
   "outputs": [
    {
     "data": {
      "text/plain": [
       "array([[ 0.00000000e+00,  5.13443346e-04,  3.56787376e+01],\n",
       "       [ 0.00000000e+00, -1.35379608e-02,  3.56787376e+01],\n",
       "       [ 0.00000000e+00, -1.00041007e-02,  3.56787376e+01],\n",
       "       [ 0.00000000e+00, -7.69607979e-03,  3.56787376e+01],\n",
       "       [ 0.00000000e+00, -7.17834395e-04,  3.56787376e+01],\n",
       "       [ 0.00000000e+00, -1.15705884e-02,  3.56787376e+01],\n",
       "       [ 0.00000000e+00,  3.54751405e-03,  3.56787376e+01],\n",
       "       [ 0.00000000e+00, -3.29198383e-02,  3.56787376e+01],\n",
       "       [ 0.00000000e+00,  1.25939393e-02,  3.56787376e+01],\n",
       "       [ 0.00000000e+00, -1.19536173e-03,  3.56787376e+01]])"
      ]
     },
     "execution_count": 247,
     "metadata": {},
     "output_type": "execute_result"
    }
   ],
   "source": [
    "src._data[:,0,:]"
   ]
  },
  {
   "cell_type": "code",
   "execution_count": 67,
   "metadata": {},
   "outputs": [],
   "source": [
    "obs, done, ground_truth_obs = src._step()\n"
   ]
  },
  {
   "cell_type": "code",
   "execution_count": 68,
   "metadata": {},
   "outputs": [
    {
     "data": {
      "text/plain": [
       "False"
      ]
     },
     "execution_count": 68,
     "metadata": {},
     "output_type": "execute_result"
    }
   ],
   "source": [
    "done"
   ]
  },
  {
   "cell_type": "code",
   "execution_count": 73,
   "metadata": {},
   "outputs": [
    {
     "data": {
      "text/plain": [
       "2"
      ]
     },
     "execution_count": 73,
     "metadata": {},
     "output_type": "execute_result"
    }
   ],
   "source": [
    "len(src.reset())"
   ]
  },
  {
   "cell_type": "code",
   "execution_count": 171,
   "metadata": {},
   "outputs": [],
   "source": [
    "x = src._data[:,:10].copy()\n",
    "x = x.reshape((10,731))\n",
    "\n",
    "# x[:,0] = np.zeros(10)"
   ]
  },
  {
   "cell_type": "code",
   "execution_count": 200,
   "metadata": {},
   "outputs": [],
   "source": [
    "x = src._data[:3,:10].copy()\n",
    "xt = x.T\n",
    "xt_roll = np.roll(xt,1,axis=1)"
   ]
  },
  {
   "cell_type": "code",
   "execution_count": 202,
   "metadata": {},
   "outputs": [
    {
     "data": {
      "text/plain": [
       "array([[-0.00396196, -0.00676917,  0.00394428],\n",
       "       [ 0.01494571,  0.00625784, -0.00614409],\n",
       "       [ 0.01100305, -0.0116527 , -0.02147639],\n",
       "       [ 0.01113241,  0.01448249,  0.00287   ],\n",
       "       [-0.00573877, -0.00112289,  0.00250141],\n",
       "       [-0.00971665,  0.00707416,  0.01502355],\n",
       "       [-0.00024103,  0.00598471, -0.00348159],\n",
       "       [-0.02447628,  0.01107117,  0.01235571],\n",
       "       [-0.00527164, -0.01244061, -0.00237634],\n",
       "       [ 0.00452465, -0.00256529,  0.00326928]])"
      ]
     },
     "execution_count": 202,
     "metadata": {},
     "output_type": "execute_result"
    }
   ],
   "source": [
    "xt"
   ]
  },
  {
   "cell_type": "code",
   "execution_count": 204,
   "metadata": {},
   "outputs": [],
   "source": [
    "xt_roll[:,0] = np.zeros(10)"
   ]
  },
  {
   "cell_type": "code",
   "execution_count": 209,
   "metadata": {},
   "outputs": [
    {
     "data": {
      "text/plain": [
       "(10, 3)"
      ]
     },
     "execution_count": 209,
     "metadata": {},
     "output_type": "execute_result"
    }
   ],
   "source": [
    "xt.shape"
   ]
  },
  {
   "cell_type": "code",
   "execution_count": 210,
   "metadata": {},
   "outputs": [],
   "source": [
    "x_stack = np.stack([xt_roll,xt],axis=2)"
   ]
  },
  {
   "cell_type": "code",
   "execution_count": 225,
   "metadata": {},
   "outputs": [],
   "source": [
    "cond = np.arange(3)\n",
    "cond = np.tile(cond,(10,1))"
   ]
  },
  {
   "cell_type": "code",
   "execution_count": 230,
   "metadata": {},
   "outputs": [],
   "source": [
    "tensor = np.concatenate((x_stack,cond[:,:,None]),axis=2)"
   ]
  },
  {
   "cell_type": "code",
   "execution_count": 234,
   "metadata": {},
   "outputs": [
    {
     "data": {
      "text/plain": [
       "array([[-3.96195575e-03, -6.76916963e-03,  1.00000000e+00],\n",
       "       [ 1.49457098e-02,  6.25783617e-03,  1.00000000e+00],\n",
       "       [ 1.10030484e-02, -1.16526963e-02,  1.00000000e+00],\n",
       "       [ 1.11324130e-02,  1.44824940e-02,  1.00000000e+00],\n",
       "       [-5.73877457e-03, -1.12289098e-03,  1.00000000e+00],\n",
       "       [-9.71664974e-03,  7.07415753e-03,  1.00000000e+00],\n",
       "       [-2.41031340e-04,  5.98470529e-03,  1.00000000e+00],\n",
       "       [-2.44762836e-02,  1.10711674e-02,  1.00000000e+00],\n",
       "       [-5.27163790e-03, -1.24406098e-02,  1.00000000e+00],\n",
       "       [ 4.52464702e-03, -2.56528537e-03,  1.00000000e+00]])"
      ]
     },
     "execution_count": 234,
     "metadata": {},
     "output_type": "execute_result"
    }
   ],
   "source": [
    "tensor[:,1,:]"
   ]
  },
  {
   "cell_type": "code",
   "execution_count": 170,
   "metadata": {},
   "outputs": [
    {
     "data": {
      "text/plain": [
       "array([-0.00114444,  0.0055232 , -0.02506296, -0.00421315,  0.00564157,\n",
       "       -0.00749296, -0.00424176, -0.00942122, -0.0154212 , -0.01311892])"
      ]
     },
     "execution_count": 170,
     "metadata": {},
     "output_type": "execute_result"
    }
   ],
   "source": [
    "x_roll[:,0]"
   ]
  },
  {
   "cell_type": "code",
   "execution_count": null,
   "metadata": {},
   "outputs": [],
   "source": []
  }
 ],
 "metadata": {
  "kernelspec": {
   "display_name": "Python 3",
   "language": "python",
   "name": "python3"
  },
  "language_info": {
   "codemirror_mode": {
    "name": "ipython",
    "version": 3
   },
   "file_extension": ".py",
   "mimetype": "text/x-python",
   "name": "python",
   "nbconvert_exporter": "python",
   "pygments_lexer": "ipython3",
   "version": "3.7.3"
  }
 },
 "nbformat": 4,
 "nbformat_minor": 4
}
