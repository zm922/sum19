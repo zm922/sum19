{
 "cells": [
  {
   "cell_type": "code",
   "execution_count": 16,
   "metadata": {},
   "outputs": [],
   "source": [
    "# get all the names we want\n",
    "fileloc = '/Users/zachariemartin/Desktop/School/Projects/summer2019/sum19/sp500names.txt'"
   ]
  },
  {
   "cell_type": "code",
   "execution_count": 30,
   "metadata": {},
   "outputs": [],
   "source": [
    "with open(fileloc) as file:\n",
    "    lines = []\n",
    "    for line in file:\n",
    "        # The rstrip method gets rid of the \"\\n\" at the end of each line\n",
    "        lines.append(line.strip())\n",
    "\n",
    "# remove empty strings\n",
    "while('' in lines): \n",
    "    lines.remove('')"
   ]
  }
 ],
 "metadata": {
  "kernelspec": {
   "display_name": "Python 3",
   "language": "python",
   "name": "python3"
  },
  "language_info": {
   "codemirror_mode": {
    "name": "ipython",
    "version": 3
   },
   "file_extension": ".py",
   "mimetype": "text/x-python",
   "name": "python",
   "nbconvert_exporter": "python",
   "pygments_lexer": "ipython3",
   "version": "3.6.8"
  }
 },
 "nbformat": 4,
 "nbformat_minor": 2
}
