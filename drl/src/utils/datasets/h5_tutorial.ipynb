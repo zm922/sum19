{
 "cells": [
  {
   "cell_type": "code",
   "execution_count": 1,
   "metadata": {},
   "outputs": [],
   "source": [
    "import numpy as np\n",
    "import h5py"
   ]
  },
  {
   "cell_type": "markdown",
   "metadata": {},
   "source": [
    "## Read hdf5 file into Python\n",
    "\n",
    "```f = h5py.File('file.h5','r')``` reads in an h5 file to the variable f. If the h5 file is stored in a different directory, make sure to include the relative path to that directory (In this example, the path is ../data/SERC/hypserspectral)"
   ]
  },
  {
   "cell_type": "code",
   "execution_count": 5,
   "metadata": {},
   "outputs": [],
   "source": [
    "f = h5py.File('/Users/zachariemartin/Desktop/School/Projects/summer2019/sum19/drl-portfolio-management-copy/src/utils/datasets/stocks_history_target.h5','r')"
   ]
  },
  {
   "cell_type": "code",
   "execution_count": 6,
   "metadata": {},
   "outputs": [
    {
     "name": "stdout",
     "output_type": "stream",
     "text": [
      "abbreviation\n",
      "history\n"
     ]
    }
   ],
   "source": [
    "#list_dataset lists the names of datasets in an hdf5 file\n",
    "def list_dataset(name,node):\n",
    "    if isinstance(node, h5py.Dataset):\n",
    "        print(name)\n",
    "\n",
    "f.visititems(list_dataset)"
   ]
  },
  {
   "cell_type": "code",
   "execution_count": 7,
   "metadata": {},
   "outputs": [
    {
     "name": "stdout",
     "output_type": "stream",
     "text": [
      "[b'AAPL' b'ATVI' b'CMCSA' b'COST' b'CSX' b'DISH' b'EA' b'EBAY' b'FB'\n",
      " b'GOOGL' b'HAS' b'ILMN' b'INTC' b'MAR' b'REGN' b'SBUX']\n"
     ]
    }
   ],
   "source": [
    "abb = f['abbreviation'][:]\n",
    "print(abb)"
   ]
  },
  {
   "cell_type": "code",
   "execution_count": 8,
   "metadata": {},
   "outputs": [
    {
     "name": "stdout",
     "output_type": "stream",
     "text": [
      "[[8.9060000e+01 9.0000000e+01 8.9040000e+01 9.0000000e+01 6.9707463e+07]\n",
      " [1.1590000e+01 1.1600000e+01 1.1340000e+01 1.1520000e+01 5.8466850e+06]\n",
      " [1.7320000e+01 1.7320000e+01 1.7100000e+01 1.7280000e+01 2.3133756e+07]\n",
      " [9.5080000e+01 9.5630000e+01 9.4840000e+01 9.5630000e+01 8.3044300e+05]\n",
      " [2.2980000e+01 2.3010000e+01 2.2790000e+01 2.2880000e+01 5.2207870e+06]\n",
      " [3.0890000e+01 3.1060000e+01 3.0430000e+01 3.1010000e+01 1.3010830e+06]\n",
      " [1.3110000e+01 1.3120000e+01 1.2740000e+01 1.2870000e+01 4.0475110e+06]\n",
      " [4.4070000e+01 4.5540000e+01 4.4060000e+01 4.5320000e+01 1.6200569e+07]\n",
      " [2.2150000e+01 2.2450000e+01 2.1400000e+01 2.1600000e+01 2.4972973e+07]\n",
      " [3.2403000e+02 3.3041000e+02 3.2366000e+02 3.3034000e+02 3.2680730e+06]\n",
      " [3.7780000e+01 3.7890000e+01 3.7210000e+01 3.7580000e+01 9.9282500e+05]\n",
      " [4.3430000e+01 4.3600000e+01 4.1780000e+01 4.2000000e+01 1.1642080e+06]\n",
      " [2.6760000e+01 2.6830000e+01 2.6410000e+01 2.6690000e+01 2.3623918e+07]\n",
      " [3.6910000e+01 3.7130000e+01 3.6750000e+01 3.6930000e+01 1.5669490e+06]\n",
      " [1.3688000e+02 1.3688000e+02 1.3228000e+02 1.3536000e+02 7.6905500e+05]\n",
      " [2.2870000e+01 2.3160000e+01 2.2740000e+01 2.3060000e+01 1.6786036e+07]]\n"
     ]
    }
   ],
   "source": [
    "hist0 = f['history'][:,0,:]\n",
    "print(hist0)"
   ]
  }
 ],
 "metadata": {
  "kernelspec": {
   "display_name": "Python 3",
   "language": "python",
   "name": "python3"
  },
  "language_info": {
   "codemirror_mode": {
    "name": "ipython",
    "version": 3
   },
   "file_extension": ".py",
   "mimetype": "text/x-python",
   "name": "python",
   "nbconvert_exporter": "python",
   "pygments_lexer": "ipython3",
   "version": "3.6.8"
  }
 },
 "nbformat": 4,
 "nbformat_minor": 2
}
