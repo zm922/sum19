{
 "cells": [
  {
   "cell_type": "code",
   "execution_count": 11,
   "metadata": {},
   "outputs": [],
   "source": [
    "import numpy as np\n",
    "import pandas as pd\n",
    "import"
   ]
  },
  {
   "cell_type": "markdown",
   "metadata": {},
   "source": [
    "# $\\Sigma$"
   ]
  },
  {
   "cell_type": "code",
   "execution_count": 1,
   "metadata": {},
   "outputs": [],
   "source": [
    "# this is what the real first cov matrix looks like from R\n",
    "# cov_mats[1:5,1:5,1]\n",
    "#               AAPL           ACN           AMG           AMT          ANTM\n",
    "# AAPL  8.754898e-05 -1.139086e-05 -1.192942e-06 -1.746261e-06  6.700847e-06\n",
    "# ACN  -1.139086e-05  5.723274e-05  1.643228e-06  8.624553e-06  9.799957e-07\n",
    "# AMG  -1.192942e-06  1.643228e-06  1.206017e-04  6.715948e-06 -9.447320e-06\n",
    "# AMT  -1.746261e-06  8.624553e-06  6.715948e-06  8.823275e-05 -3.082557e-06\n",
    "# ANTM  6.700847e-06  9.799957e-07 -9.447320e-06 -3.082557e-06  1.224090e-04"
   ]
  },
  {
   "cell_type": "code",
   "execution_count": 4,
   "metadata": {},
   "outputs": [
    {
     "ename": "FileNotFoundError",
     "evalue": "[Errno 2] No such file or directory: 'data/mgarch_sim_3000_cov100.npy'",
     "output_type": "error",
     "traceback": [
      "\u001b[0;31m---------------------------------------------------------------------------\u001b[0m",
      "\u001b[0;31mFileNotFoundError\u001b[0m                         Traceback (most recent call last)",
      "\u001b[0;32m<ipython-input-4-0cf65e66942f>\u001b[0m in \u001b[0;36m<module>\u001b[0;34m\u001b[0m\n\u001b[1;32m      5\u001b[0m \u001b[0;34m\u001b[0m\u001b[0m\n\u001b[1;32m      6\u001b[0m \u001b[0;31m# if using npy\u001b[0m\u001b[0;34m\u001b[0m\u001b[0;34m\u001b[0m\u001b[0;34m\u001b[0m\u001b[0m\n\u001b[0;32m----> 7\u001b[0;31m \u001b[0mcovMats\u001b[0m \u001b[0;34m=\u001b[0m \u001b[0mnp\u001b[0m\u001b[0;34m.\u001b[0m\u001b[0mload\u001b[0m\u001b[0;34m(\u001b[0m\u001b[0;34m\"data/mgarch_sim_3000_cov100.npy\"\u001b[0m\u001b[0;34m)\u001b[0m\u001b[0;34m\u001b[0m\u001b[0;34m\u001b[0m\u001b[0m\n\u001b[0m\u001b[1;32m      8\u001b[0m \u001b[0;34m\u001b[0m\u001b[0m\n\u001b[1;32m      9\u001b[0m \u001b[0;31m# shape\u001b[0m\u001b[0;34m\u001b[0m\u001b[0;34m\u001b[0m\u001b[0;34m\u001b[0m\u001b[0m\n",
      "\u001b[0;32m~/anaconda3/lib/python3.7/site-packages/numpy/lib/npyio.py\u001b[0m in \u001b[0;36mload\u001b[0;34m(file, mmap_mode, allow_pickle, fix_imports, encoding)\u001b[0m\n\u001b[1;32m    413\u001b[0m         \u001b[0mown_fid\u001b[0m \u001b[0;34m=\u001b[0m \u001b[0;32mFalse\u001b[0m\u001b[0;34m\u001b[0m\u001b[0;34m\u001b[0m\u001b[0m\n\u001b[1;32m    414\u001b[0m     \u001b[0;32melse\u001b[0m\u001b[0;34m:\u001b[0m\u001b[0;34m\u001b[0m\u001b[0;34m\u001b[0m\u001b[0m\n\u001b[0;32m--> 415\u001b[0;31m         \u001b[0mfid\u001b[0m \u001b[0;34m=\u001b[0m \u001b[0mopen\u001b[0m\u001b[0;34m(\u001b[0m\u001b[0mos_fspath\u001b[0m\u001b[0;34m(\u001b[0m\u001b[0mfile\u001b[0m\u001b[0;34m)\u001b[0m\u001b[0;34m,\u001b[0m \u001b[0;34m\"rb\"\u001b[0m\u001b[0;34m)\u001b[0m\u001b[0;34m\u001b[0m\u001b[0;34m\u001b[0m\u001b[0m\n\u001b[0m\u001b[1;32m    416\u001b[0m         \u001b[0mown_fid\u001b[0m \u001b[0;34m=\u001b[0m \u001b[0;32mTrue\u001b[0m\u001b[0;34m\u001b[0m\u001b[0;34m\u001b[0m\u001b[0m\n\u001b[1;32m    417\u001b[0m \u001b[0;34m\u001b[0m\u001b[0m\n",
      "\u001b[0;31mFileNotFoundError\u001b[0m: [Errno 2] No such file or directory: 'data/mgarch_sim_3000_cov100.npy'"
     ]
    }
   ],
   "source": [
    "# load data created from \n",
    "\n",
    "# if using csv\n",
    "# covMats = pd.read_csv('data/mgarch_sim_3000_cov100.csv')\n",
    "\n",
    "# if using npy\n",
    "covMats = np.load(\"data/mgarch_sim_3000_cov100.npy\")\n",
    "\n",
    "# shape\n",
    "covMats.shape"
   ]
  },
  {
   "cell_type": "code",
   "execution_count": null,
   "metadata": {},
   "outputs": [],
   "source": [
    "# reshape\n",
    "covM = np.reshape(covMats,(3000,100,100))"
   ]
  },
  {
   "cell_type": "code",
   "execution_count": null,
   "metadata": {},
   "outputs": [],
   "source": [
    "# sanity check\n",
    "# ensure we are working with symmetric matrices\n",
    "\n",
    "def check_symmetric(a, rtol=1e-05, atol=1e-08):\n",
    "    return np.allclose(a, a.T, rtol=rtol, atol=atol)\n",
    "for i in range(covM.shape[0]):\n",
    "    if check_symmetric(covM[0,:,:]) == False:\n",
    "        print(i)"
   ]
  },
  {
   "cell_type": "code",
   "execution_count": null,
   "metadata": {},
   "outputs": [],
   "source": [
    "# dimensions\n",
    "n = 100\n",
    "\n",
    "# lists\n",
    "var55 = []\n",
    "var95 = []\n",
    "condNum = []\n",
    "\n",
    "for i in range(covM.shape[0]):\n",
    "    # sigma[i]\n",
    "    mat = covM[i,:,:]\n",
    "    \n",
    "    # condition number\n",
    "    c = LA.cond(mat)\n",
    "    condNum.append(c)\n",
    "    \n",
    "    # perform svd decomp\n",
    "    model = PCA(n_components=n)\n",
    "    model.fit_transform(mat)\n",
    "    \n",
    "    # explained variance vector - cumulative\n",
    "    v = model.explained_variance_ratio_.cumsum()\n",
    "    idx55 = np.where(v>=.55)\n",
    "    idx95 = np.where(v>=.95)\n",
    "    \n",
    "    # extract number of eigenvalues needed, 0 indexed \n",
    "    x = idx55[0][0] + 1\n",
    "    y = idx95[0][0] + 1\n",
    "    \n",
    "    # append to list\n",
    "    var55.append(x)\n",
    "    var95.append(y)"
   ]
  },
  {
   "cell_type": "code",
   "execution_count": null,
   "metadata": {},
   "outputs": [],
   "source": [
    "# dates\n",
    "dates = pd.date_range('2019-10-05', periods=num_days)\n",
    "\n",
    "arr = np.zeros((covM.shape[0],3))\n",
    "arr[:,0] = var55\n",
    "arr[:,1] = var95\n",
    "arr[:,2] = condNum\n",
    "\n",
    "df = pd.DataFrame(arr)\n",
    "df.index = df_plot.index\n",
    "col_string = 'number of eigenvalues needed to explain '\n",
    "df.columns = [col_string + '55% variance',col_string + '95% variance','condition number']\n",
    "\n",
    "# num dates to plot to ease visualization\n",
    "length = 500\n",
    "\n",
    "if False:\n",
    "    for i in range(df.shape[1]):\n",
    "        plt.figure(i,figsize=(20,10))\n",
    "        plt.plot(dates[:length],df.iloc[:length,i])\n",
    "        plt.xticks(df.iloc[:length,i].index[::50], rotation=30)\n",
    "        plt.title(df.columns[i])\n",
    "        plt.savefig('{}.png'.format(df.columns[i]))\n",
    "        plt.show()\n"
   ]
  },
  {
   "cell_type": "markdown",
   "metadata": {},
   "source": [
    "# $Z$"
   ]
  },
  {
   "cell_type": "code",
   "execution_count": 15,
   "metadata": {},
   "outputs": [],
   "source": [
    "path = 'data/sim_csv_correctForm.csv'\n",
    "dfz_ = pd.read_csv(path)"
   ]
  },
  {
   "cell_type": "code",
   "execution_count": null,
   "metadata": {},
   "outputs": [
    {
     "name": "stderr",
     "output_type": "stream",
     "text": [
      "/Users/zachariemartin/anaconda3/lib/python3.7/site-packages/matplotlib/pyplot.py:514: RuntimeWarning: More than 20 figures have been opened. Figures created through the pyplot interface (`matplotlib.pyplot.figure`) are retained until explicitly closed and may consume too much memory. (To control this warning, see the rcParam `figure.max_open_warning`).\n",
      "  max_open_warning, RuntimeWarning)\n"
     ]
    }
   ],
   "source": [
    "len_sim = 3000\n",
    "num_assets = 100\n",
    "target_stocks = dfz_['Name'].unique()\n",
    "x = np.arange(len_sim)\n",
    "\n",
    "# plot \"returns\" to see if they make sense   \n",
    "if True:\n",
    "    for i in range(num_assets):\n",
    "        plt.figure(i)\n",
    "        x = len(dfz_.loc[i*len_sim:(i+1)*len_sim-1,'Close'])\n",
    "        x_len = np.arange(x)\n",
    "        plt.plot(x_len,dfz_.loc[i*len_sim:(i+1)*len_sim-1,'Close'])\n",
    "        plt.title(target_stocks[i])"
   ]
  },
  {
   "cell_type": "code",
   "execution_count": null,
   "metadata": {},
   "outputs": [],
   "source": []
  }
 ],
 "metadata": {
  "kernelspec": {
   "display_name": "Python 3",
   "language": "python",
   "name": "python3"
  },
  "language_info": {
   "codemirror_mode": {
    "name": "ipython",
    "version": 3
   },
   "file_extension": ".py",
   "mimetype": "text/x-python",
   "name": "python",
   "nbconvert_exporter": "python",
   "pygments_lexer": "ipython3",
   "version": "3.7.3"
  }
 },
 "nbformat": 4,
 "nbformat_minor": 2
}
